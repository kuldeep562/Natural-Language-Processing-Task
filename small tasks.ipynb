{
 "cells": [
  {
   "cell_type": "markdown",
   "id": "2220b941-290c-4302-9b21-8f96e2b9c3f9",
   "metadata": {},
   "source": [
    "# Q1 REPEATED WORDS"
   ]
  },
  {
   "cell_type": "code",
   "execution_count": null,
   "id": "a527ffa0-0e0b-453e-b8d6-6052316c1fb2",
   "metadata": {},
   "outputs": [
    {
     "name": "stdout",
     "output_type": "stream",
     "text": [
      "i\n"
     ]
    }
   ],
   "source": [
    "def repeat(word):\n",
    "    return next(iter([i for i in sorted(set(text),key=lambda x: text.index(x))if list(text).count(i)>1]),None)\n",
    "text = \"interviewquery\"\n",
    "print(repeat(text))"
   ]
  },
  {
   "cell_type": "code",
   "execution_count": 11,
   "id": "a48252d4-d979-4418-87f1-e94500a58049",
   "metadata": {},
   "outputs": [
    {
     "name": "stdout",
     "output_type": "stream",
     "text": [
      "['i', 'n', 't', 'e', 'r', 'v', 'i', 'e', 'w', 'q', 'u', 'e', 'r', 'y']\n"
     ]
    }
   ],
   "source": [
    "l = list(text)\n",
    "print(l)"
   ]
  },
  {
   "cell_type": "markdown",
   "id": "1b4dd399-80d2-4c29-9849-6f1aa011aeed",
   "metadata": {},
   "source": [
    "# Q2 if 19 is more than 2 time and 5 is more than 3 time is present return False"
   ]
  },
  {
   "cell_type": "code",
   "execution_count": 13,
   "id": "b8e20c9e-4596-4e61-b215-0f110b23de94",
   "metadata": {},
   "outputs": [],
   "source": [
    "no = [19,19,15,5,5,5,1,2]"
   ]
  },
  {
   "cell_type": "code",
   "execution_count": 14,
   "id": "34b6990a-7005-49ba-812a-9c3865c73beb",
   "metadata": {},
   "outputs": [
    {
     "name": "stdout",
     "output_type": "stream",
     "text": [
      "True\n"
     ]
    }
   ],
   "source": [
    "def q2(no):\n",
    "    return True if no.count(19)==2 and no.count(5)==3 else False\n",
    "print(q2(no))"
   ]
  },
  {
   "cell_type": "code",
   "execution_count": 15,
   "id": "a3707ebb-99c8-478f-a0a5-c5ad2cd81b2a",
   "metadata": {},
   "outputs": [
    {
     "name": "stdout",
     "output_type": "stream",
     "text": [
      "True\n"
     ]
    }
   ],
   "source": [
    "print(q2(no))"
   ]
  },
  {
   "cell_type": "markdown",
   "id": "59a64650-1063-4db5-b901-f2414cf1a0c9",
   "metadata": {},
   "source": [
    "# Q3 if list has more than 8 elements and 5th elements is repeated more than 2 times"
   ]
  },
  {
   "cell_type": "code",
   "execution_count": 17,
   "id": "4e79a1db-0126-469b-a701-4b8d58c976cf",
   "metadata": {},
   "outputs": [],
   "source": [
    "no = [19,19,15,5,5,5,1,2]"
   ]
  },
  {
   "cell_type": "code",
   "execution_count": 18,
   "id": "23743e42-fb5c-40c8-803d-57c7f8b4488b",
   "metadata": {},
   "outputs": [
    {
     "name": "stdout",
     "output_type": "stream",
     "text": [
      "True\n"
     ]
    }
   ],
   "source": [
    "def q3(no):\n",
    "    return True if len(no)==8 and no.count(no[4])>=2 else False\n",
    "print(q3(no))"
   ]
  },
  {
   "cell_type": "markdown",
   "id": "0c2fd3e3-42ba-4282-95da-753635d93660",
   "metadata": {},
   "source": [
    "# Q4 accept the integer and determine wheather it is greater than 4^4 and which is 4 mod 34"
   ]
  },
  {
   "cell_type": "code",
   "execution_count": 20,
   "id": "11fea146-019c-4996-98f8-5dce63af4d82",
   "metadata": {},
   "outputs": [],
   "source": [
    "def q4(no):\n",
    "    return True if no>4**4 and no%34==4 else False\n",
    "    #return True if no>pow(4) and no%34==4 else False"
   ]
  },
  {
   "cell_type": "code",
   "execution_count": 21,
   "id": "80f234bd-1311-44e1-9364-173bb47a482b",
   "metadata": {},
   "outputs": [
    {
     "data": {
      "text/plain": [
       "True"
      ]
     },
     "execution_count": 21,
     "metadata": {},
     "output_type": "execute_result"
    }
   ],
   "source": [
    "q4(922)"
   ]
  },
  {
   "cell_type": "markdown",
   "id": "09a51974-a006-4ecd-ae41-687b17c65f88",
   "metadata": {},
   "source": [
    "# Q5 find number of stone in each pile"
   ]
  },
  {
   "cell_type": "code",
   "execution_count": 24,
   "id": "031be641-998e-4bdb-8c26-3dc0e89af6d0",
   "metadata": {},
   "outputs": [],
   "source": [
    "def pile(no):\n",
    "    return [no+2*i for i in range(no)]"
   ]
  },
  {
   "cell_type": "code",
   "execution_count": 25,
   "id": "c09734b3-59b9-4440-b314-9a61ecac7257",
   "metadata": {},
   "outputs": [
    {
     "data": {
      "text/plain": [
       "[10, 12, 14, 16, 18, 20, 22, 24, 26, 28]"
      ]
     },
     "execution_count": 25,
     "metadata": {},
     "output_type": "execute_result"
    }
   ],
   "source": [
    "pile(10)"
   ]
  },
  {
   "cell_type": "markdown",
   "id": "4a8150a4-3fb6-4cdf-8512-e08ed6e6809b",
   "metadata": {},
   "source": [
    "# Q6 check the nth-1 string is a proper substring of the nth string in a given list of string. ['a','abb','sfs','oo','de','sfde']"
   ]
  },
  {
   "cell_type": "code",
   "execution_count": 27,
   "id": "05996e99-6d53-4bf7-afe4-1df6c04a8290",
   "metadata": {},
   "outputs": [],
   "source": [
    "char = ['a','abb','sfs','oo','de','sfde']"
   ]
  },
  {
   "cell_type": "code",
   "execution_count": 28,
   "id": "8f5a5cb6-4a79-4f0a-a852-ae3866aeeff7",
   "metadata": {},
   "outputs": [],
   "source": [
    "def sting(char):\n",
    "    return True if char[-2] in char[-1] else False"
   ]
  },
  {
   "cell_type": "code",
   "execution_count": 29,
   "id": "2bd87a3f-4956-43ee-bda7-54591776a66d",
   "metadata": {},
   "outputs": [
    {
     "data": {
      "text/plain": [
       "True"
      ]
     },
     "execution_count": 29,
     "metadata": {},
     "output_type": "execute_result"
    }
   ],
   "source": [
    "sting(char)"
   ]
  },
  {
   "cell_type": "markdown",
   "id": "88d3aa82-bee7-4668-94e8-d9bd14e6aab3",
   "metadata": {},
   "source": [
    "# Q7 test a list of hundred integers between 0 to 999, which all differ by ten from one another. Return True otherwise False"
   ]
  },
  {
   "cell_type": "code",
   "execution_count": 31,
   "id": "2f4e5eaa-5ff7-425b-84be-d732de8e5893",
   "metadata": {},
   "outputs": [],
   "source": [
    "li = [0,10,20,30,40,50,60,70,80,90,100,110,120,130,140,150,160,170,180,190,200,210,220,230,240,250,260,270,280,290,300,310,320,330,340,350,360,370,380,390,400,410,420,430,440,450,460,470,480,490,500,510,520,530,540,550,560,570,580,590,600,610,620,630,640,650,660,670,680,690,700,710,720,730,740,750,760,770,780,790,800,810,820,830,840,850,860,870,880,890,900,910,920,930,940,950,960,970,980,990,]"
   ]
  },
  {
   "cell_type": "code",
   "execution_count": 32,
   "id": "03f33d2c-6ba3-4369-bbd1-8fb0aa113bf3",
   "metadata": {},
   "outputs": [],
   "source": [
    "def fun(f):\n",
    "    return True if len(li[::2])-len(li[1::2])==10 else False"
   ]
  },
  {
   "cell_type": "code",
   "execution_count": 33,
   "id": "3dd90516-6001-424b-8dc5-e832bdda3a07",
   "metadata": {},
   "outputs": [
    {
     "data": {
      "text/plain": [
       "False"
      ]
     },
     "execution_count": 33,
     "metadata": {},
     "output_type": "execute_result"
    }
   ],
   "source": [
    "fun(li)"
   ]
  }
 ],
 "metadata": {
  "kernelspec": {
   "display_name": "Python 3 (ipykernel)",
   "language": "python",
   "name": "python3"
  },
  "language_info": {
   "codemirror_mode": {
    "name": "ipython",
    "version": 3
   },
   "file_extension": ".py",
   "mimetype": "text/x-python",
   "name": "python",
   "nbconvert_exporter": "python",
   "pygments_lexer": "ipython3",
   "version": "3.12.4"
  }
 },
 "nbformat": 4,
 "nbformat_minor": 5
}
